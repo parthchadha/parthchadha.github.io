{
 "cells": [
  {
   "cell_type": "code",
   "execution_count": 145,
   "metadata": {},
   "outputs": [],
   "source": [
    "from __future__ import print_function\n",
    "# import jax\n",
    "# import jax.numpy as np\n",
    "import random\n",
    "import numpy as onp\n",
    "import matplotlib.pyplot as plt\n",
    "import seaborn as sns\n",
    "import itertools\n",
    "import matplotlib.patches as mpatches"
   ]
  },
  {
   "cell_type": "markdown",
   "metadata": {},
   "source": [
    "### Create mixture of gaussian data"
   ]
  },
  {
   "cell_type": "code",
   "execution_count": 146,
   "metadata": {},
   "outputs": [],
   "source": [
    "def create_mixture_of_gaussian(batch_size, mean_var):\n",
    "    nb_samples = batch_size #// len(mean_var) \n",
    "    data = [onp.random.multivariate_normal(params[0], params[1], int(nb_samples*params[2])) for params in mean_var]\n",
    "    #label = [onp.zeros(data[0].shape[0]), onp.ones(data[1].shape[0])]\n",
    "    return onp.vstack(data)#, onp.vstack(label).reshape(-1,)\n",
    "\n",
    "def plot_dataset(ax, data, size=4, cmap=\"Reds\", label=\"Ground truth\"):\n",
    "    ax.set_aspect('equal')\n",
    "    ax.set_ylim((-size, size))\n",
    "    ax.set_xlim((-size, size))\n",
    "    ax.tick_params(labelsize=10)\n",
    "    sns.kdeplot(\n",
    "        data[:, 0],\n",
    "        data[:, 1],\n",
    "        cmap=cmap,\n",
    "        ax=ax,\n",
    "        )"
   ]
  },
  {
   "cell_type": "code",
   "execution_count": 149,
   "metadata": {},
   "outputs": [],
   "source": [
    "p = 1.0\n",
    "batch_size=64\n",
    "mean_std = [[[0,0],[[1,0],[0,1]], p], [[2,2],[[0.5,0],[0,0.5]],1-p]]\n",
    "data_indices = [create_mixture_of_gaussian(batch_size, mean_std) for _ in range(2000)]\n",
    "data = onp.vstack([d for d in data_indices])\n",
    "#label = np.vstack([d[1] for d in data_indices])\n",
    "#data = 2*((data - np.min(data))/(np.max(data) - np.min(data))) - 1\n",
    "#data = (data - onp.min(data))/(onp.max(data) - onp.min(data))"
   ]
  },
  {
   "cell_type": "markdown",
   "metadata": {},
   "source": [
    "### MLE to estimate parameters of a Gaussian"
   ]
  },
  {
   "cell_type": "markdown",
   "metadata": {},
   "source": [
    "Maximum Likelihood Estimation to estimate parameters of a gaussian distribution:\n",
    "$$\\mu_{ML} = \\frac{1}{N} \\sum_{n=1}^{N} x_{n}$$\n",
    "$$\\Sigma_{ML} = \\frac{1}{N} \\sum_{n=1}^{N} (x_{n} - \\mu)(x_{n} - \\mu)^T$$"
   ]
  },
  {
   "cell_type": "code",
   "execution_count": 148,
   "metadata": {},
   "outputs": [
    {
     "ename": "KeyboardInterrupt",
     "evalue": "",
     "output_type": "error",
     "traceback": [
      "\u001b[0;31m---------------------------------------------------------------------------\u001b[0m",
      "\u001b[0;31mKeyboardInterrupt\u001b[0m                         Traceback (most recent call last)",
      "\u001b[0;32m<ipython-input-148-20254f3d97c4>\u001b[0m in \u001b[0;36m<module>\u001b[0;34m\u001b[0m\n\u001b[1;32m      1\u001b[0m \u001b[0;31m# Plot the ground truth data\u001b[0m\u001b[0;34m\u001b[0m\u001b[0;34m\u001b[0m\u001b[0m\n\u001b[1;32m      2\u001b[0m \u001b[0mfig\u001b[0m\u001b[0;34m,\u001b[0m \u001b[0max\u001b[0m \u001b[0;34m=\u001b[0m \u001b[0mplt\u001b[0m\u001b[0;34m.\u001b[0m\u001b[0msubplots\u001b[0m\u001b[0;34m(\u001b[0m\u001b[0mfigsize\u001b[0m\u001b[0;34m=\u001b[0m\u001b[0;34m(\u001b[0m\u001b[0;36m6\u001b[0m\u001b[0;34m,\u001b[0m \u001b[0;36m12\u001b[0m\u001b[0;34m)\u001b[0m\u001b[0;34m)\u001b[0m\u001b[0;34m\u001b[0m\u001b[0m\n\u001b[0;32m----> 3\u001b[0;31m \u001b[0mplot_dataset\u001b[0m\u001b[0;34m(\u001b[0m\u001b[0max\u001b[0m\u001b[0;34m,\u001b[0m \u001b[0mdata\u001b[0m\u001b[0;34m,\u001b[0m \u001b[0msize\u001b[0m\u001b[0;34m=\u001b[0m\u001b[0;36m3\u001b[0m\u001b[0;34m)\u001b[0m\u001b[0;34m\u001b[0m\u001b[0m\n\u001b[0m\u001b[1;32m      4\u001b[0m \u001b[0;34m\u001b[0m\u001b[0m\n\u001b[1;32m      5\u001b[0m \u001b[0;31m# Estimate the mean and covariance from data\u001b[0m\u001b[0;34m\u001b[0m\u001b[0;34m\u001b[0m\u001b[0m\n",
      "\u001b[0;32m<ipython-input-146-76d425a2bf95>\u001b[0m in \u001b[0;36mplot_dataset\u001b[0;34m(ax, data, size, cmap, label)\u001b[0m\n\u001b[1;32m     14\u001b[0m         \u001b[0mdata\u001b[0m\u001b[0;34m[\u001b[0m\u001b[0;34m:\u001b[0m\u001b[0;34m,\u001b[0m \u001b[0;36m1\u001b[0m\u001b[0;34m]\u001b[0m\u001b[0;34m,\u001b[0m\u001b[0;34m\u001b[0m\u001b[0m\n\u001b[1;32m     15\u001b[0m         \u001b[0mcmap\u001b[0m\u001b[0;34m=\u001b[0m\u001b[0mcmap\u001b[0m\u001b[0;34m,\u001b[0m\u001b[0;34m\u001b[0m\u001b[0m\n\u001b[0;32m---> 16\u001b[0;31m         \u001b[0max\u001b[0m\u001b[0;34m=\u001b[0m\u001b[0max\u001b[0m\u001b[0;34m,\u001b[0m\u001b[0;34m\u001b[0m\u001b[0m\n\u001b[0m\u001b[1;32m     17\u001b[0m         )\n",
      "\u001b[0;32m~/page/parthchadha.github.io/jaxenv/lib/python3.5/site-packages/seaborn/distributions.py\u001b[0m in \u001b[0;36mkdeplot\u001b[0;34m(data, data2, shade, vertical, kernel, bw, gridsize, cut, clip, legend, cumulative, shade_lowest, cbar, cbar_ax, cbar_kws, ax, **kwargs)\u001b[0m\n\u001b[1;32m    685\u001b[0m         ax = _bivariate_kdeplot(x, y, shade, shade_lowest,\n\u001b[1;32m    686\u001b[0m                                 \u001b[0mkernel\u001b[0m\u001b[0;34m,\u001b[0m \u001b[0mbw\u001b[0m\u001b[0;34m,\u001b[0m \u001b[0mgridsize\u001b[0m\u001b[0;34m,\u001b[0m \u001b[0mcut\u001b[0m\u001b[0;34m,\u001b[0m \u001b[0mclip\u001b[0m\u001b[0;34m,\u001b[0m \u001b[0mlegend\u001b[0m\u001b[0;34m,\u001b[0m\u001b[0;34m\u001b[0m\u001b[0m\n\u001b[0;32m--> 687\u001b[0;31m                                 cbar, cbar_ax, cbar_kws, ax, **kwargs)\n\u001b[0m\u001b[1;32m    688\u001b[0m     \u001b[0;32melse\u001b[0m\u001b[0;34m:\u001b[0m\u001b[0;34m\u001b[0m\u001b[0m\n\u001b[1;32m    689\u001b[0m         ax = _univariate_kdeplot(data, shade, vertical, kernel, bw,\n",
      "\u001b[0;32m~/page/parthchadha.github.io/jaxenv/lib/python3.5/site-packages/seaborn/distributions.py\u001b[0m in \u001b[0;36m_bivariate_kdeplot\u001b[0;34m(x, y, filled, fill_lowest, kernel, bw, gridsize, cut, clip, axlabel, cbar, cbar_ax, cbar_kws, ax, **kwargs)\u001b[0m\n\u001b[1;32m    393\u001b[0m         \u001b[0mxx\u001b[0m\u001b[0;34m,\u001b[0m \u001b[0myy\u001b[0m\u001b[0;34m,\u001b[0m \u001b[0mz\u001b[0m \u001b[0;34m=\u001b[0m \u001b[0m_statsmodels_bivariate_kde\u001b[0m\u001b[0;34m(\u001b[0m\u001b[0mx\u001b[0m\u001b[0;34m,\u001b[0m \u001b[0my\u001b[0m\u001b[0;34m,\u001b[0m \u001b[0mbw\u001b[0m\u001b[0;34m,\u001b[0m \u001b[0mgridsize\u001b[0m\u001b[0;34m,\u001b[0m \u001b[0mcut\u001b[0m\u001b[0;34m,\u001b[0m \u001b[0mclip\u001b[0m\u001b[0;34m)\u001b[0m\u001b[0;34m\u001b[0m\u001b[0m\n\u001b[1;32m    394\u001b[0m     \u001b[0;32melse\u001b[0m\u001b[0;34m:\u001b[0m\u001b[0;34m\u001b[0m\u001b[0m\n\u001b[0;32m--> 395\u001b[0;31m         \u001b[0mxx\u001b[0m\u001b[0;34m,\u001b[0m \u001b[0myy\u001b[0m\u001b[0;34m,\u001b[0m \u001b[0mz\u001b[0m \u001b[0;34m=\u001b[0m \u001b[0m_scipy_bivariate_kde\u001b[0m\u001b[0;34m(\u001b[0m\u001b[0mx\u001b[0m\u001b[0;34m,\u001b[0m \u001b[0my\u001b[0m\u001b[0;34m,\u001b[0m \u001b[0mbw\u001b[0m\u001b[0;34m,\u001b[0m \u001b[0mgridsize\u001b[0m\u001b[0;34m,\u001b[0m \u001b[0mcut\u001b[0m\u001b[0;34m,\u001b[0m \u001b[0mclip\u001b[0m\u001b[0;34m)\u001b[0m\u001b[0;34m\u001b[0m\u001b[0m\n\u001b[0m\u001b[1;32m    396\u001b[0m \u001b[0;34m\u001b[0m\u001b[0m\n\u001b[1;32m    397\u001b[0m     \u001b[0;31m# Plot the contours\u001b[0m\u001b[0;34m\u001b[0m\u001b[0;34m\u001b[0m\u001b[0m\n",
      "\u001b[0;32m~/page/parthchadha.github.io/jaxenv/lib/python3.5/site-packages/seaborn/distributions.py\u001b[0m in \u001b[0;36m_scipy_bivariate_kde\u001b[0;34m(x, y, bw, gridsize, cut, clip)\u001b[0m\n\u001b[1;32m    487\u001b[0m     \u001b[0my_support\u001b[0m \u001b[0;34m=\u001b[0m \u001b[0m_kde_support\u001b[0m\u001b[0;34m(\u001b[0m\u001b[0mdata\u001b[0m\u001b[0;34m[\u001b[0m\u001b[0;34m:\u001b[0m\u001b[0;34m,\u001b[0m \u001b[0;36m1\u001b[0m\u001b[0;34m]\u001b[0m\u001b[0;34m,\u001b[0m \u001b[0mbw_y\u001b[0m\u001b[0;34m,\u001b[0m \u001b[0mgridsize\u001b[0m\u001b[0;34m,\u001b[0m \u001b[0mcut\u001b[0m\u001b[0;34m,\u001b[0m \u001b[0mclip\u001b[0m\u001b[0;34m[\u001b[0m\u001b[0;36m1\u001b[0m\u001b[0;34m]\u001b[0m\u001b[0;34m)\u001b[0m\u001b[0;34m\u001b[0m\u001b[0m\n\u001b[1;32m    488\u001b[0m     \u001b[0mxx\u001b[0m\u001b[0;34m,\u001b[0m \u001b[0myy\u001b[0m \u001b[0;34m=\u001b[0m \u001b[0mnp\u001b[0m\u001b[0;34m.\u001b[0m\u001b[0mmeshgrid\u001b[0m\u001b[0;34m(\u001b[0m\u001b[0mx_support\u001b[0m\u001b[0;34m,\u001b[0m \u001b[0my_support\u001b[0m\u001b[0;34m)\u001b[0m\u001b[0;34m\u001b[0m\u001b[0m\n\u001b[0;32m--> 489\u001b[0;31m     \u001b[0mz\u001b[0m \u001b[0;34m=\u001b[0m \u001b[0mkde\u001b[0m\u001b[0;34m(\u001b[0m\u001b[0;34m[\u001b[0m\u001b[0mxx\u001b[0m\u001b[0;34m.\u001b[0m\u001b[0mravel\u001b[0m\u001b[0;34m(\u001b[0m\u001b[0;34m)\u001b[0m\u001b[0;34m,\u001b[0m \u001b[0myy\u001b[0m\u001b[0;34m.\u001b[0m\u001b[0mravel\u001b[0m\u001b[0;34m(\u001b[0m\u001b[0;34m)\u001b[0m\u001b[0;34m]\u001b[0m\u001b[0;34m)\u001b[0m\u001b[0;34m.\u001b[0m\u001b[0mreshape\u001b[0m\u001b[0;34m(\u001b[0m\u001b[0mxx\u001b[0m\u001b[0;34m.\u001b[0m\u001b[0mshape\u001b[0m\u001b[0;34m)\u001b[0m\u001b[0;34m\u001b[0m\u001b[0m\n\u001b[0m\u001b[1;32m    490\u001b[0m     \u001b[0;32mreturn\u001b[0m \u001b[0mxx\u001b[0m\u001b[0;34m,\u001b[0m \u001b[0myy\u001b[0m\u001b[0;34m,\u001b[0m \u001b[0mz\u001b[0m\u001b[0;34m\u001b[0m\u001b[0m\n\u001b[1;32m    491\u001b[0m \u001b[0;34m\u001b[0m\u001b[0m\n",
      "\u001b[0;32m~/page/parthchadha.github.io/jaxenv/lib/python3.5/site-packages/scipy/stats/kde.py\u001b[0m in \u001b[0;36mevaluate\u001b[0;34m(self, points)\u001b[0m\n\u001b[1;32m    258\u001b[0m                 \u001b[0mdiff\u001b[0m \u001b[0;34m=\u001b[0m \u001b[0mscaled_dataset\u001b[0m \u001b[0;34m-\u001b[0m \u001b[0mscaled_points\u001b[0m\u001b[0;34m[\u001b[0m\u001b[0;34m:\u001b[0m\u001b[0;34m,\u001b[0m \u001b[0mi\u001b[0m\u001b[0;34m,\u001b[0m \u001b[0mnewaxis\u001b[0m\u001b[0;34m]\u001b[0m\u001b[0;34m\u001b[0m\u001b[0m\n\u001b[1;32m    259\u001b[0m                 \u001b[0menergy\u001b[0m \u001b[0;34m=\u001b[0m \u001b[0msum\u001b[0m\u001b[0;34m(\u001b[0m\u001b[0mdiff\u001b[0m \u001b[0;34m*\u001b[0m \u001b[0mdiff\u001b[0m\u001b[0;34m,\u001b[0m \u001b[0maxis\u001b[0m\u001b[0;34m=\u001b[0m\u001b[0;36m0\u001b[0m\u001b[0;34m)\u001b[0m \u001b[0;34m/\u001b[0m \u001b[0;36m2.0\u001b[0m\u001b[0;34m\u001b[0m\u001b[0m\n\u001b[0;32m--> 260\u001b[0;31m                 \u001b[0mresult\u001b[0m\u001b[0;34m[\u001b[0m\u001b[0mi\u001b[0m\u001b[0;34m]\u001b[0m \u001b[0;34m=\u001b[0m \u001b[0msum\u001b[0m\u001b[0;34m(\u001b[0m\u001b[0mexp\u001b[0m\u001b[0;34m(\u001b[0m\u001b[0;34m-\u001b[0m\u001b[0menergy\u001b[0m\u001b[0;34m)\u001b[0m\u001b[0;34m*\u001b[0m\u001b[0mself\u001b[0m\u001b[0;34m.\u001b[0m\u001b[0mweights\u001b[0m\u001b[0;34m,\u001b[0m \u001b[0maxis\u001b[0m\u001b[0;34m=\u001b[0m\u001b[0;36m0\u001b[0m\u001b[0;34m)\u001b[0m\u001b[0;34m\u001b[0m\u001b[0m\n\u001b[0m\u001b[1;32m    261\u001b[0m \u001b[0;34m\u001b[0m\u001b[0m\n\u001b[1;32m    262\u001b[0m         \u001b[0mresult\u001b[0m \u001b[0;34m=\u001b[0m \u001b[0mresult\u001b[0m \u001b[0;34m/\u001b[0m \u001b[0mself\u001b[0m\u001b[0;34m.\u001b[0m\u001b[0m_norm_factor\u001b[0m\u001b[0;34m\u001b[0m\u001b[0m\n",
      "\u001b[0;31mKeyboardInterrupt\u001b[0m: "
     ]
    },
    {
     "data": {
      "image/png": "[encoded data removed]",
      "text/plain": [
       "<Figure size 432x864 with 1 Axes>"
      ]
     },
     "metadata": {
      "needs_background": "light"
     },
     "output_type": "display_data"
    }
   ],
   "source": [
    "# Plot the ground truth data\n",
    "fig, ax = plt.subplots(figsize=(6, 12))\n",
    "plot_dataset(ax, data, size=3)\n",
    "\n",
    "# Estimate the mean and covariance from data\n",
    "# mu_estimate = onp.mean(data, axis=0)\n",
    "# covar_estimate = onp.matmul(onp.transpose(data - mu_estimate),(data-mu_estimate)) / data.shape[0]\n",
    "# mean_var_estimate = [[mu_estimate, covar_estimate, 1.0]]\n",
    "\n",
    "# # Generate data from estimated mean and variance\n",
    "# gen_data_indices = [create_mixture_of_gaussian(batch_size, mean_var_estimate) for _ in range(100)]\n",
    "# generated_data = onp.vstack([d for d in gen_data_indices])\n",
    "#plot_dataset(ax, generated_data, size=1.2, cmap=\"Blues\", label='Generated data')\n",
    "\n",
    "# Add legends to the plot\n",
    "groundtruth_patch = mpatches.Patch(color=sns.color_palette(\"Reds\")[2], label=\"Ground truth\")\n",
    "gendata_patch = mpatches.Patch(color=sns.color_palette(\"Blues\")[2], label=\"Generated data\")\n",
    "ax.legend(handles=[groundtruth_patch, gendata_patch], loc=\"upper left\")"
   ]
  },
  {
   "cell_type": "markdown",
   "metadata": {},
   "source": [
    "### Lets create a simple model"
   ]
  },
  {
   "cell_type": "code",
   "execution_count": null,
   "metadata": {},
   "outputs": [],
   "source": [
    "eps = 1e-10\n",
    "def BCE(output, y):\n",
    "    return np.mean(-y * np.log(output + eps) - (1-y)*np.log(1-output + eps), axis=0)[0]\n",
    "\n",
    "# def BCE(output, y):\n",
    "#     return - np.mean(y * np.exp(output + eps) + (1-y)*(1+output + eps), axis=0)[0]\n",
    "\n",
    "# def BCE(output, y):\n",
    "#     return np.mean(-y * np.exp(-output) - (1-y)*(1+np.log(-output)), axis=0)[0]\n",
    "\n",
    "\n",
    "def gen_loss(generator_params, discriminator_params, noise, y):\n",
    "    gen_out = generator_net_apply(generator_params, noise)\n",
    "    prediction = discriminator_net_apply(discriminator_params, gen_out)\n",
    "    loss_value = BCE(prediction, y)\n",
    "    return loss_value\n",
    "    \n",
    "def disc_loss(p, x, y):\n",
    "    prediction = discriminator_net_apply(p, x)\n",
    "    loss_value = BCE(prediction, y)\n",
    "    return loss_value\n",
    "\n",
    "@jit\n",
    "def generator_step(i, disc_opt_state, gen_opt_state, noise, y):\n",
    "    generator_params = gen_get_params(gen_opt_state)\n",
    "    discriminator_params = disc_get_params(disc_opt_state)\n",
    "    g = grad(gen_loss)(generator_params, discriminator_params, noise, y)\n",
    "    return gen_opt_update(i, g, gen_opt_state)\n",
    "\n",
    "@jit\n",
    "def discriminator_step(i, opt_state, x, y):\n",
    "    p = disc_get_params(opt_state)\n",
    "    g = grad(disc_loss)(p, x, y)\n",
    "    return disc_opt_update(i, g, opt_state)\n",
    "\n",
    "def sample_generator(gen_opt_state, input_data):\n",
    "    gen_param = gen_get_params(gen_opt_state)\n",
    "    return generator_net_apply(gen_param, input_data)\n",
    "\n",
    "def train_discriminator(i, disc_opt_state, real_data, fake_data):\n",
    "    disc_opt_state = discriminator_step(i, disc_opt_state, real_data, np.ones((real_data.shape[0],1), dtype=np.float32))    \n",
    "    disc_opt_state = discriminator_step(i, disc_opt_state, fake_data, np.zeros((real_data.shape[0],1), dtype=np.float32))   \n",
    "    return disc_opt_state\n",
    "    \n",
    "def train_generator(i, disc_opt_state, gen_opt_state, noise):    \n",
    "    gen_opt_state = generator_step(i, disc_opt_state, gen_opt_state, noise, np.ones((noise.shape[0],1), dtype=np.float32))\n",
    "    return gen_opt_state"
   ]
  },
  {
   "cell_type": "code",
   "execution_count": null,
   "metadata": {},
   "outputs": [],
   "source": [
    "from jax.experimental import stax\n",
    "from jax import random\n",
    "from jax.experimental.stax import Conv, Dense, MaxPool, Relu, Sigmoid, Tanh, Flatten, LogSoftmax, Softplus, LeakyRelu # neural network layers\n",
    "from jax.experimental import optimizers\n",
    "from jax import jit, grad\n",
    "\n",
    "generator_net_init, generator_net_apply = stax.serial(\n",
    "        Dense(5), Tanh,\n",
    "        Dense(3), Tanh,\n",
    "        Dense(2), Relu\n",
    ")\n",
    "\n",
    "discriminator_net_init, discriminator_net_apply = stax.serial(\n",
    "        Dense(5), Tanh,\n",
    "        Dense(3), Tanh,\n",
    "        Dense(1), Sigmoid\n",
    ")\n",
    "latent_size = 5\n",
    "key = random.PRNGKey(onp.random.randint(0,999999))\n",
    "key, subkey = random.split(key)\n",
    "generator_in_shape = (-1, latent_size)\n",
    "generator_out_shape, generator_net_params = generator_net_init(subkey, generator_in_shape)\n",
    "\n",
    "key, subkey = random.split(key)\n",
    "discriminator_in_shape = (-1, 2)\n",
    "discriminator_out_shape, discriminator_net_params = discriminator_net_init(subkey, discriminator_in_shape)"
   ]
  },
  {
   "cell_type": "code",
   "execution_count": null,
   "metadata": {},
   "outputs": [],
   "source": [
    "# Initialize adam optimizer for generator and discriminator\n",
    "gen_opt_init, gen_opt_update, gen_get_params = optimizers.sgd(step_size=1e-2)\n",
    "gen_opt_state = gen_opt_init(generator_net_params)\n",
    "\n",
    "disc_opt_init, disc_opt_update, disc_get_params = optimizers.sgd(step_size=1e-2)\n",
    "disc_opt_state = disc_opt_init(discriminator_net_params)"
   ]
  },
  {
   "cell_type": "code",
   "execution_count": null,
   "metadata": {},
   "outputs": [],
   "source": [
    "noise = onp.random.uniform(size=(1000, latent_size))\n",
    "\n",
    "generated_data = sample_generator(gen_opt_state, noise)\n",
    "plt.plot(generated_data[:,0], generated_data[:,1],'o')\n",
    "prob = discriminator_net_apply(disc_get_params(disc_opt_state), generated_data)\n",
    "print(prob[:5])"
   ]
  },
  {
   "cell_type": "code",
   "execution_count": null,
   "metadata": {},
   "outputs": [],
   "source": [
    "batch_size = 32\n",
    "for i in range(30000):\n",
    "    real_data = create_mixture_of_gaussian(batch_size, mean_std)\n",
    "    #real_data = data[onp.random.choice(data.shape[0], size=batch_size)]    \n",
    "    noise = onp.random.uniform(size=(batch_size, latent_size))\n",
    "    fake_data = sample_generator(gen_opt_state, noise)\n",
    "    #print(fake_data[:2,])\n",
    "    # Train discriminator\n",
    "    disc_opt_state = train_discriminator(i, disc_opt_state, real_data, fake_data)    \n",
    "    # Train generator\n",
    "#     for j in range(10):\n",
    "    gen_opt_state = train_generator(i, disc_opt_state, gen_opt_state, noise)    \n",
    "    if i % 1000 == 0:\n",
    "        print(i)\n",
    "    "
   ]
  },
  {
   "cell_type": "code",
   "execution_count": null,
   "metadata": {},
   "outputs": [],
   "source": [
    "# Plot the ground truth data\n",
    "fig, ax = plt.subplots(figsize=(6, 12))\n",
    "plot_dataset(ax, data, size=1.2)\n",
    "\n",
    "noise = onp.random.uniform(size=(1000, latent_size))\n",
    "# Generate data from GAN\n",
    "#print(noise)\n",
    "generated_data = sample_generator(gen_opt_state, noise)\n",
    "\n",
    "print(generated_data)\n",
    "plot_dataset(ax, generated_data, size=1.2, cmap=\"Blues\", label='Generated data')\n",
    "\n",
    "# Add legends to the plot\n",
    "groundtruth_patch = mpatches.Patch(color=sns.color_palette(\"Reds\")[2], label=\"Ground truth\")\n",
    "gendata_patch = mpatches.Patch(color=sns.color_palette(\"Blues\")[2], label=\"Generated data\")\n",
    "ax.legend(handles=[groundtruth_patch, gendata_patch], loc=\"upper left\")"
   ]
  },
  {
   "cell_type": "code",
   "execution_count": null,
   "metadata": {},
   "outputs": [],
   "source": [
    "# # Plot the ground truth data\n",
    "fig, ax = plt.subplots(figsize=(6, 12))\n",
    "# plot_dataset(ax, data, size=1)\n",
    "\n",
    "noise = onp.random.normal(size=(4000, latent_size))\n",
    "# Generate data from GAN\n",
    "#print(noise)\n",
    "generated_data = sample_generator(gen_opt_state, noise)\n",
    "#print(generated_data)\n",
    "plot_dataset(ax, generated_data, size=2, cmap=\"Blues\", label='Generated data')\n",
    "\n",
    "# Add legends to the plot\n",
    "groundtruth_patch = mpatches.Patch(color=sns.color_palette(\"Reds\")[2], label=\"Ground truth\")\n",
    "gendata_patch = mpatches.Patch(color=sns.color_palette(\"Blues\")[2], label=\"Generated data\")\n",
    "ax.legend(handles=[groundtruth_patch, gendata_patch], loc=\"upper left\")"
   ]
  },
  {
   "cell_type": "markdown",
   "metadata": {},
   "source": [
    "# Try PyTorch"
   ]
  },
  {
   "cell_type": "code",
   "execution_count": 150,
   "metadata": {},
   "outputs": [],
   "source": [
    "import torch\n",
    "import torch.nn as nn\n",
    "import torch.optim as optim\n",
    "from torch.distributions.normal import Normal"
   ]
  },
  {
   "cell_type": "code",
   "execution_count": 151,
   "metadata": {},
   "outputs": [],
   "source": [
    "def get_real_sampler():\n",
    "    return lambda m, n : create_mixture_of_gaussian(m, n)#.requires_grad_()\n",
    "#     return lambda m, n: dist.sample( (m, n) ).requires_grad_()\n",
    "\n",
    "def get_noise_sampler():\n",
    "    return lambda m, n: torch.rand(m, n).requires_grad_()  # Uniform-dist data into generator, _NOT_ Gaussian"
   ]
  },
  {
   "cell_type": "code",
   "execution_count": 152,
   "metadata": {},
   "outputs": [
    {
     "name": "stdout",
     "output_type": "stream",
     "text": [
      "cuda:0\n"
     ]
    }
   ],
   "source": [
    "device = torch.device(\"cuda:0\" if torch.cuda.is_available() else \"cpu\")\n",
    "print(device)\n",
    "actual_data = get_real_sampler()\n",
    "#actual_data = torch.from_numpy(data).cuda()\n",
    "noise_data = get_noise_sampler()"
   ]
  },
  {
   "cell_type": "code",
   "execution_count": 153,
   "metadata": {},
   "outputs": [],
   "source": [
    "class Generator(nn.Module):\n",
    "    def __init__(self, input_size, hidden_size, output_size):\n",
    "        super(Generator, self).__init__()\n",
    "#         self.map1 = nn.Linear(input_size, hidden_size)\n",
    "#         self.map2 = nn.Linear(hidden_size, hidden_size)\n",
    "#         self.map3 = nn.Linear(hidden_size, output_size)\n",
    "#         self.xfer = torch.nn.Sigmoid()\n",
    "        self.map1 = nn.Linear(input_size, output_size)\n",
    "        \n",
    "    def forward(self, x):\n",
    "        return self.map1(x)\n",
    "#         x = self.xfer( self.map1(x) )\n",
    "#         x = self.xfer( self.map2(x) )\n",
    "#         return self.xfer( self.map3( x ) )"
   ]
  },
  {
   "cell_type": "code",
   "execution_count": 154,
   "metadata": {},
   "outputs": [],
   "source": [
    "class  Discriminator(nn.Module):\n",
    "    def __init__(self, input_size, hidden_size, output_size):\n",
    "        super(Discriminator, self).__init__()\n",
    "        self.map1 = nn.Linear(input_size, hidden_size)\n",
    "        self.map2 = nn.Linear(hidden_size, hidden_size)\n",
    "        self.map3 = nn.Linear(hidden_size, output_size)\n",
    "        self.elu = torch.nn.ELU()\n",
    "\n",
    "    def forward(self, x):\n",
    "        x = self.elu(self.map1(x))\n",
    "        x = self.elu(self.map2(x))\n",
    "        return torch.sigmoid( self.map3(x) )"
   ]
  },
  {
   "cell_type": "code",
   "execution_count": 155,
   "metadata": {},
   "outputs": [],
   "source": [
    "latent_size = 10\n",
    "hidden_size = 32\n",
    "output_size = 2\n",
    "\n",
    "d_minibatch_size = 64\n",
    "g_minibatch_size = 64\n",
    "\n",
    "\n",
    "G = Generator(input_size=latent_size, hidden_size=hidden_size, output_size=output_size)\n",
    "D = Discriminator(input_size=output_size, hidden_size=hidden_size, output_size=1)\n"
   ]
  },
  {
   "cell_type": "code",
   "execution_count": 156,
   "metadata": {},
   "outputs": [],
   "source": [
    "criterion = nn.BCELoss()\n",
    "d_optimizer = optim.SGD(D.parameters(), lr=5e-2) #, betas=optim_betas)\n",
    "g_optimizer = optim.SGD(G.parameters(), lr=1e-2) #, betas=optim_betas)\n",
    "eps = 1e-10\n",
    "# def bceLoss(output, target):\n",
    "#     return torch.mean(-target * torch.log(output + eps) - (1 - target) * torch.log(1-output+eps), axis=0)\n",
    "#     #return onp.mean(-target * onp.log(output + eps) - (1-target)*onp.log(1-output + eps), axis=0)[0]\n",
    "\n",
    "def bceLoss(output, target):\n",
    "    return torch.mean(target * torch.exp(output + eps) - (1 - target) * (1+output), axis=0)\n",
    "    #     return - np.mean(y * np.exp(output + eps) + (1-y)*(1+output + eps), axis=0)[0]\n",
    "\n"
   ]
  },
  {
   "cell_type": "code",
   "execution_count": 157,
   "metadata": {},
   "outputs": [],
   "source": [
    "def train_D_on_actual() :\n",
    "    real_data = torch.Tensor(actual_data( d_minibatch_size, mean_std ))\n",
    "    decision = D( real_data )\n",
    "    error = bceLoss( decision, torch.ones( d_minibatch_size, 1 ))  # ones = true\n",
    "    error.backward()\n",
    "    \n",
    "def train_D_on_generated() :\n",
    "    noise = noise_data( d_minibatch_size, latent_size )\n",
    "    fake_data = G( noise ) \n",
    "    decision = D( fake_data )\n",
    "    error = bceLoss( decision, torch.zeros( d_minibatch_size, 1 ))  # zeros = fake\n",
    "    error.backward()\n",
    "    \n",
    "    \n",
    "def train_G():\n",
    "    noise = noise_data( g_minibatch_size, latent_size )\n",
    "    fake_data = G( noise )\n",
    "    fake_decision = D( fake_data )\n",
    "    error = bceLoss( fake_decision, torch.ones( g_minibatch_size, 1 ) )  # we want to fool, so pretend it's all genuine\n",
    "\n",
    "    error.backward()\n",
    "    return error.item(), fake_data"
   ]
  },
  {
   "cell_type": "code",
   "execution_count": 158,
   "metadata": {},
   "outputs": [
    {
     "name": "stdout",
     "output_type": "stream",
     "text": [
      "Training complete\n"
     ]
    }
   ],
   "source": [
    "losses = []\n",
    "num_epochs = 10000\n",
    "for epoch in range(num_epochs):\n",
    "    D.zero_grad()\n",
    "\n",
    "    for _ in range(5):\n",
    "        train_D_on_actual()    \n",
    "        train_D_on_generated()\n",
    "        d_optimizer.step()\n",
    "    \n",
    "    G.zero_grad()\n",
    "    for _ in range(5):\n",
    "        loss,generated = train_G()\n",
    "        g_optimizer.step()\n",
    "    \n",
    "    losses.append( loss )\n",
    "    #print(epoch)\n",
    "#     if( epoch % print_interval) == (print_interval-1) :\n",
    "#         print( \"Epoch %6d. Loss %5.3f\" % ( epoch+1, loss ) )\n",
    "        \n",
    "print( \"Training complete\" )"
   ]
  },
  {
   "cell_type": "code",
   "execution_count": 159,
   "metadata": {},
   "outputs": [
    {
     "data": {
      "text/plain": [
       "[<matplotlib.lines.Line2D at 0x7ff3876ec908>]"
      ]
     },
     "execution_count": 159,
     "metadata": {},
     "output_type": "execute_result"
    },
    {
     "data": {
      "image/png": "[encoded data removed]",
      "text/plain": [
       "<Figure size 432x288 with 1 Axes>"
      ]
     },
     "metadata": {
      "needs_background": "light"
     },
     "output_type": "display_data"
    }
   ],
   "source": [
    "noise = noise_data(100, latent_size )\n",
    "fake_data = G( noise ).detach().numpy()\n",
    "plt.plot(fake_data[:,0], fake_data[:,1],\"o\")"
   ]
  },
  {
   "cell_type": "code",
   "execution_count": 160,
   "metadata": {},
   "outputs": [
    {
     "name": "stdout",
     "output_type": "stream",
     "text": [
      "[[-0.5791855   1.1344304 ]\n",
      " [-0.57476676  0.2600997 ]\n",
      " [-1.1599485   1.0214663 ]\n",
      " [-0.2427103   0.592294  ]\n",
      " [-0.75959444  1.2234296 ]\n",
      " [-0.8798083   1.0511954 ]\n",
      " [-0.42434943  0.8593459 ]\n",
      " [-0.61838603  1.1119131 ]\n",
      " [-0.4502729   0.7599018 ]\n",
      " [-0.65725374  1.4389497 ]\n",
      " [-0.5100031   1.1041843 ]\n",
      " [-0.15287952  0.5346185 ]\n",
      " [-0.58766127  1.387913  ]\n",
      " [-1.0132821   0.85486734]\n",
      " [-0.4038451   0.59064543]\n",
      " [-0.6951643   0.81762415]\n",
      " [-0.44108814  1.4343036 ]\n",
      " [-0.5474881   0.31607974]\n",
      " [-0.7317387   0.530227  ]\n",
      " [-0.90201324  0.37010443]\n",
      " [-0.5915402   0.46702445]\n",
      " [-0.5176102   0.4420366 ]\n",
      " [-0.66148144  0.92454296]\n",
      " [-0.3930136   0.2589459 ]\n",
      " [-0.71537685  0.89760345]\n",
      " [-0.45892578  0.47783676]\n",
      " [-1.0380859   0.719265  ]\n",
      " [-0.8650686   0.51039815]\n",
      " [-0.47267246  0.72777337]\n",
      " [-0.27795124  0.7178149 ]\n",
      " [-0.6092766  -0.1783193 ]\n",
      " [-0.95615125  0.972716  ]\n",
      " [-0.3173696   1.0151173 ]\n",
      " [-0.19524604  0.70051354]\n",
      " [-0.66553175  0.8116169 ]\n",
      " [-0.8091781   0.9460531 ]\n",
      " [-0.7904357   1.0456231 ]\n",
      " [-0.55689955  0.008908  ]\n",
      " [-0.7834945   1.5917524 ]\n",
      " [-0.23736595  0.5674808 ]\n",
      " [-0.8754054   0.82232094]\n",
      " [-1.0053346   1.056792  ]\n",
      " [-0.32808948  1.258222  ]\n",
      " [-1.1249341   0.71797323]\n",
      " [-0.96918756  0.9059415 ]\n",
      " [-0.65171474 -0.05826762]\n",
      " [-0.59166086  0.8719108 ]\n",
      " [-0.49589464  1.4467524 ]\n",
      " [-0.6404849   0.6064486 ]\n",
      " [-0.408584    0.63732225]\n",
      " [-0.6605601   1.0149082 ]\n",
      " [-0.57414246  1.0159373 ]\n",
      " [-0.58260536  0.89414   ]\n",
      " [-0.91480565  1.1146393 ]\n",
      " [-0.73842615  1.5103385 ]\n",
      " [-0.02861038  0.7208373 ]\n",
      " [-0.51056814  0.636233  ]\n",
      " [-0.93350303  0.8328286 ]\n",
      " [-0.69227874  0.0406784 ]\n",
      " [-0.65475714  0.3841731 ]\n",
      " [ 0.10950151  0.47800136]\n",
      " [-0.7819052   0.51822996]\n",
      " [-0.7929987   0.59454465]\n",
      " [-0.56409305  1.0055634 ]\n",
      " [-0.56860876  0.5988233 ]\n",
      " [-0.92915416  0.43442917]\n",
      " [-0.20240827  1.1269252 ]\n",
      " [-0.39679712  1.2221898 ]\n",
      " [-0.8904251   0.31490785]\n",
      " [-0.6963691   0.37422565]\n",
      " [-0.7887855   1.3712214 ]\n",
      " [-0.31418926  1.4822841 ]\n",
      " [-0.21715732  1.2716786 ]\n",
      " [-0.5963828   0.6879957 ]\n",
      " [-0.35593057  1.4402734 ]\n",
      " [-0.5221237   1.0090985 ]\n",
      " [-0.61858183  0.6438563 ]\n",
      " [-0.49483347  1.2684964 ]\n",
      " [-0.92829514  0.52586305]\n",
      " [-0.496117    1.2856832 ]\n",
      " [-0.66076523  1.355121  ]\n",
      " [-0.42604923  0.49024338]\n",
      " [-0.29007062  0.34782478]\n",
      " [-0.63156223  1.3282436 ]\n",
      " [-0.37796766  0.38955542]\n",
      " [-0.5637491   1.1850302 ]\n",
      " [-0.6426368   1.0237417 ]\n",
      " [-0.98907626  0.53234434]\n",
      " [-0.2500673   0.84254533]\n",
      " [-0.95590466  0.56361866]\n",
      " [-0.59258336  1.5088716 ]\n",
      " [-0.7801391   1.0776479 ]\n",
      " [-0.54136086  0.7191907 ]\n",
      " [-0.7369782   0.52519596]\n",
      " [-0.66792285  0.7095402 ]\n",
      " [-0.8568089   0.8833147 ]\n",
      " [-0.67117906  0.48280728]\n",
      " [-0.8369912   0.96127844]\n",
      " [-0.32984746  0.91213   ]\n",
      " [-0.8180729   1.0790734 ]]\n"
     ]
    },
    {
     "data": {
      "text/plain": [
       "<matplotlib.legend.Legend at 0x7ff38773f4e0>"
      ]
     },
     "execution_count": 160,
     "metadata": {},
     "output_type": "execute_result"
    },
    {
     "data": {
      "image/png": "[encoded data removed]",
      "text/plain": [
       "<Figure size 432x864 with 1 Axes>"
      ]
     },
     "metadata": {
      "needs_background": "light"
     },
     "output_type": "display_data"
    }
   ],
   "source": [
    "# Plot the ground truth data\n",
    "fig, ax = plt.subplots(figsize=(6, 12))\n",
    "plot_dataset(ax, data, size=3)\n",
    "\n",
    "noise = onp.random.uniform(size=(1000, latent_size))\n",
    "# Generate data from GAN\n",
    "#print(noise)\n",
    "generated_data = fake_data#sample_generator(gen_opt_state, noise)\n",
    "\n",
    "print(generated_data)\n",
    "plot_dataset(ax, generated_data, size=3, cmap=\"Blues\", label='Generated data')\n",
    "\n",
    "# Add legends to the plot\n",
    "groundtruth_patch = mpatches.Patch(color=sns.color_palette(\"Reds\")[2], label=\"Ground truth\")\n",
    "gendata_patch = mpatches.Patch(color=sns.color_palette(\"Blues\")[2], label=\"Generated data\")\n",
    "ax.legend(handles=[groundtruth_patch, gendata_patch], loc=\"upper left\")"
   ]
  },
  {
   "cell_type": "code",
   "execution_count": null,
   "metadata": {},
   "outputs": [],
   "source": []
  }
 ],
 "metadata": {
  "kernelspec": {
   "display_name": "jax",
   "language": "python",
   "name": "jax"
  },
  "language_info": {
   "codemirror_mode": {
    "name": "ipython",
    "version": 3
   },
   "file_extension": ".py",
   "mimetype": "text/x-python",
   "name": "python",
   "nbconvert_exporter": "python",
   "pygments_lexer": "ipython3",
   "version": "3.5.2"
  }
 },
 "nbformat": 4,
 "nbformat_minor": 2
}
